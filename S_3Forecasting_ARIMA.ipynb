{
  "nbformat": 4,
  "nbformat_minor": 0,
  "metadata": {
    "colab": {
      "provenance": []
    },
    "kernelspec": {
      "name": "python3",
      "display_name": "Python 3"
    },
    "language_info": {
      "name": "python"
    }
  },
  "cells": [
    {
      "cell_type": "markdown",
      "source": [
        "#ARIMA Model (Auto Regressive Integrated Moving Average)\n",
        "ARIMA model is good only on stationary dataset. It can not perform good on non-stationary dataset. For that we have 'd' parameter in ARIMA model which transforms non-stationary data to stationary data. Order is (p,d,q)"
      ],
      "metadata": {
        "id": "kXiAT2qkUlM9"
      }
    },
    {
      "cell_type": "code",
      "source": [
        "!pip install pmdarima"
      ],
      "metadata": {
        "id": "7Cgrp7D5WIG9"
      },
      "execution_count": null,
      "outputs": []
    },
    {
      "cell_type": "code",
      "execution_count": 2,
      "metadata": {
        "id": "ZSvWGxmSUaU_"
      },
      "outputs": [],
      "source": [
        "import pandas as pd\n",
        "import matplotlib.pyplot as plt\n",
        "import seaborn as sns\n",
        "import numpy as np\n",
        "from statsmodels.tsa.stattools import adfuller # adfuller checks if data is stationary or non-stationary\n",
        "from pmdarima import auto_arima # from auto_arima we will get order of p,d,q\n",
        "from statsmodels.tsa.arima.model import ARIMA # ARIMA function for model building\n",
        "from sklearn.metrics import mean_squared_error\n",
        "%matplotlib inline\n",
        "import warnings\n",
        "warnings.filterwarnings('ignore')"
      ]
    },
    {
      "cell_type": "code",
      "source": [
        "df = pd.read_csv('DailyTemps.csv',index_col='DATE',parse_dates=True)#parse_dates=True tells python that index column is date time column\n",
        "df\n",
        "# Here we are converting DATE column as index for visualization purpose\n",
        "# we want to predict avg temp for next few days or months. So we are only going to work with AvgTemp column"
      ],
      "metadata": {
        "id": "AgGnqjHiVHKw"
      },
      "execution_count": null,
      "outputs": []
    },
    {
      "cell_type": "code",
      "source": [
        "df.dropna(inplace=True)"
      ],
      "metadata": {
        "id": "kvg05ek3WbNP"
      },
      "execution_count": null,
      "outputs": []
    },
    {
      "cell_type": "markdown",
      "source": [
        "**Check if Data is stationary or not**\n",
        "How to check? - Plot the Data\n",
        "\n",
        "We can directly conclude that\n",
        "if No Trend - data is Stationary\n"
      ],
      "metadata": {
        "id": "KYYgtW0wzGAi"
      }
    },
    {
      "cell_type": "code",
      "source": [
        "df['AvgTemp'].plot(figsize=(10,5))"
      ],
      "metadata": {
        "id": "Y9zjtw15zCPl"
      },
      "execution_count": null,
      "outputs": []
    },
    {
      "cell_type": "markdown",
      "source": [
        "Here No Trend is present so data is Stationary. Here if mean is computed it will come around 46 to 47.\n",
        "\n",
        "Majority of data points are around 45 to 50. There should not be huge difference between mean of 2014 and mean of 2015.\n",
        "\n",
        "It will not same every year but it should be near to each other. Then we can call it as a Stationary data.\n",
        "\n",
        "But we can't completely rely on visualizations only.\n",
        "So to make sure that data is Non-Stationary we will use adfuller test."
      ],
      "metadata": {
        "id": "lf5LI-zA2Wdw"
      }
    },
    {
      "cell_type": "code",
      "source": [
        "def ad_test(dataset):\n",
        "  dftest = adfuller(dataset,autolag='AIC')\n",
        "  #AIC is the number which will help me to tell whether model is performing good or not. (Not much imp. here. We will see it in ARIMA)\n",
        "  print(\"P-Value: \", dftest[1])# dftest[1]: index of p-value is 1.\n",
        "\n",
        "ad_test(df['AvgTemp'])#Function call\n",
        "\n",
        "#adfuller() test gives you different values like p-value, t-value, alpha. But we want only p-value.\n",
        "# based on that we will decide whether data is stationary or non-stationary\n",
        "# If p<0.05 then Data is Stationary\n",
        "# If p>0.05 then Data is Non-Stationary"
      ],
      "metadata": {
        "colab": {
          "base_uri": "https://localhost:8080/"
        },
        "id": "HM6MhYL82U_u",
        "outputId": "04f10687-c011-4f12-8e74-f58116ba82a2"
      },
      "execution_count": null,
      "outputs": [
        {
          "output_type": "stream",
          "name": "stdout",
          "text": [
            "P-Value:  8.675937480199653e-09\n"
          ]
        }
      ]
    },
    {
      "cell_type": "code",
      "source": [
        "# without writing user defined function ad_test we can calculate p-value with adfuller()\n",
        "dftest=adfuller(df['AvgTemp'])\n",
        "print(\"P-Value: \", dftest[1])"
      ],
      "metadata": {
        "colab": {
          "base_uri": "https://localhost:8080/"
        },
        "id": "nFK2Hu01wL_7",
        "outputId": "cdb342ec-8065-49d2-8666-22f6bf0ffb2b"
      },
      "execution_count": null,
      "outputs": [
        {
          "output_type": "stream",
          "name": "stdout",
          "text": [
            "P-Value:  8.675937480199653e-09\n"
          ]
        }
      ]
    },
    {
      "cell_type": "markdown",
      "source": [
        "**Here p-value is approximately = 0. Here p<0.05. So Data is Stationary.**\n",
        "\n",
        "So we can start with model building."
      ],
      "metadata": {
        "id": "iVyORaRy5DYB"
      }
    },
    {
      "cell_type": "markdown",
      "source": [
        "# **ARIMA Model Building**\n",
        "\n",
        "ARIMA is composed of 3 terms: (AutoRegression (p) + Integraded (d) + Moving Avg (q))\n",
        "\n",
        "First we need to find out the order of ARIMA model."
      ],
      "metadata": {
        "id": "WWmFOmMF6gyx"
      }
    },
    {
      "cell_type": "code",
      "source": [
        "stepwise_fit = auto_arima(df['AvgTemp'],trace=True,suppress_warnings=True)\n",
        "# auto_arima() function returns all these values p,d,q\n",
        "# trace=True gives all possible combinations that auto_arima()function is going to take\n",
        "# ignore warnings.\n",
        "# Function takes combination of p,d,q values, whichever combinations gives minimum AIC value\n",
        "# Akaike’s Information Criterion (AIC), which was useful in selecting predictors for regression,\n",
        "# is also useful for determining the order of an ARIMA model.\n",
        "# AIC is kind of error metric for ARIMA model. Lesser AIC - Better the model."
      ],
      "metadata": {
        "id": "58ZgIrIJ6NTH",
        "colab": {
          "base_uri": "https://localhost:8080/"
        },
        "outputId": "ef988c85-3576-482b-b483-8039538da7c0"
      },
      "execution_count": null,
      "outputs": [
        {
          "output_type": "stream",
          "name": "stdout",
          "text": [
            "Performing stepwise search to minimize aic\n",
            " ARIMA(2,0,2)(0,0,0)[0] intercept   : AIC=8344.735, Time=3.35 sec\n",
            " ARIMA(0,0,0)(0,0,0)[0] intercept   : AIC=10347.755, Time=0.08 sec\n",
            " ARIMA(1,0,0)(0,0,0)[0] intercept   : AIC=8365.701, Time=0.20 sec\n",
            " ARIMA(0,0,1)(0,0,0)[0] intercept   : AIC=9136.225, Time=0.37 sec\n",
            " ARIMA(0,0,0)(0,0,0)[0]             : AIC=19192.139, Time=0.05 sec\n",
            " ARIMA(1,0,2)(0,0,0)[0] intercept   : AIC=8355.947, Time=2.39 sec\n",
            " ARIMA(2,0,1)(0,0,0)[0] intercept   : AIC=8356.308, Time=2.81 sec\n",
            " ARIMA(3,0,2)(0,0,0)[0] intercept   : AIC=8347.311, Time=5.35 sec\n",
            " ARIMA(2,0,3)(0,0,0)[0] intercept   : AIC=8318.337, Time=3.88 sec\n",
            " ARIMA(1,0,3)(0,0,0)[0] intercept   : AIC=8330.192, Time=3.63 sec\n",
            " ARIMA(3,0,3)(0,0,0)[0] intercept   : AIC=8310.577, Time=6.03 sec\n",
            " ARIMA(4,0,3)(0,0,0)[0] intercept   : AIC=8332.293, Time=4.81 sec\n",
            " ARIMA(3,0,4)(0,0,0)[0] intercept   : AIC=8317.620, Time=7.11 sec\n",
            " ARIMA(2,0,4)(0,0,0)[0] intercept   : AIC=8306.228, Time=4.99 sec\n",
            " ARIMA(1,0,4)(0,0,0)[0] intercept   : AIC=8297.028, Time=5.11 sec\n",
            " ARIMA(0,0,4)(0,0,0)[0] intercept   : AIC=8455.435, Time=2.15 sec\n",
            " ARIMA(1,0,5)(0,0,0)[0] intercept   : AIC=8295.034, Time=5.54 sec\n",
            " ARIMA(0,0,5)(0,0,0)[0] intercept   : AIC=8419.091, Time=1.58 sec\n",
            " ARIMA(2,0,5)(0,0,0)[0] intercept   : AIC=8302.544, Time=7.73 sec\n",
            " ARIMA(1,0,5)(0,0,0)[0]             : AIC=8304.533, Time=0.64 sec\n",
            "\n",
            "Best model:  ARIMA(1,0,5)(0,0,0)[0] intercept\n",
            "Total fit time: 67.867 seconds\n"
          ]
        }
      ]
    },
    {
      "cell_type": "markdown",
      "source": [
        "Best Model: p:1, d:0, q:5 Min AIC: 8295.034\n",
        "\n",
        "\n",
        "\n",
        "\n",
        "\n",
        "Why d=0? Data is already Stationary so no need to do differencing."
      ],
      "metadata": {
        "id": "sOFh9ES3_5Ts"
      }
    },
    {
      "cell_type": "code",
      "source": [
        "# Create ARIMA model\n",
        "# Split the data\n",
        "train = df.iloc[:-30]\n",
        "test = df.iloc[-30:] # last 30 records for testing purpose\n",
        "print(train.shape,test.shape)"
      ],
      "metadata": {
        "colab": {
          "base_uri": "https://localhost:8080/"
        },
        "id": "MRYAmQEM_zaB",
        "outputId": "8c09742c-33a9-48bc-8586-48ac315f8a44"
      },
      "execution_count": null,
      "outputs": [
        {
          "output_type": "stream",
          "name": "stdout",
          "text": [
            "(1791, 5) (30, 5)\n"
          ]
        }
      ]
    },
    {
      "cell_type": "code",
      "source": [
        "model = ARIMA(train['AvgTemp'],order=(1,0,5)) # goal is predict avg. temp.\n",
        "model = model.fit()\n",
        "#model.summary()"
      ],
      "metadata": {
        "id": "LKU0bw5OCu3Z"
      },
      "execution_count": null,
      "outputs": []
    },
    {
      "cell_type": "markdown",
      "source": [
        "# **Evaluating the Model**"
      ],
      "metadata": {
        "id": "80KPhbwxEeMf"
      }
    },
    {
      "cell_type": "code",
      "source": [
        "test"
      ],
      "metadata": {
        "colab": {
          "base_uri": "https://localhost:8080/",
          "height": 1000
        },
        "id": "hLcBKc1rGhtF",
        "outputId": "cd5b7c96-9c06-4ae3-ab0d-70ee2f41d934"
      },
      "execution_count": null,
      "outputs": [
        {
          "output_type": "execute_result",
          "data": {
            "text/plain": [
              "            MinTemp  MaxTemp  AvgTemp  Sunrise  Sunset\n",
              "DATE                                                  \n",
              "2018-12-01     36.0     52.0     44.0      640    1743\n",
              "2018-12-02     33.0     51.0     42.0      641    1743\n",
              "2018-12-03     36.0     53.0     45.0      641    1743\n",
              "2018-12-04     39.0     56.0     48.0      642    1743\n",
              "2018-12-05     36.0     53.0     45.0      643    1743\n",
              "2018-12-06     36.0     52.0     44.0      643    1743\n",
              "2018-12-07     37.0     53.0     45.0      644    1744\n",
              "2018-12-08     34.0     53.0     44.0      645    1744\n",
              "2018-12-09     36.0     53.0     45.0      645    1744\n",
              "2018-12-10     36.0     55.0     46.0      646    1745\n",
              "2018-12-11     38.0     56.0     47.0      646    1745\n",
              "2018-12-12     39.0     54.0     47.0      647    1745\n",
              "2018-12-13     36.0     54.0     45.0      648    1746\n",
              "2018-12-14     36.0     56.0     46.0      648    1746\n",
              "2018-12-15     40.0     53.0     47.0      649    1746\n",
              "2018-12-16     40.0     57.0     49.0      649    1747\n",
              "2018-12-17     42.0     60.0     51.0      650    1747\n",
              "2018-12-18     35.0     51.0     43.0      650    1748\n",
              "2018-12-19     32.0     51.0     42.0      651    1748\n",
              "2018-12-20     37.0     58.0     48.0      651    1749\n",
              "2018-12-21     42.0     57.0     50.0      652    1749\n",
              "2018-12-22     40.0     54.0     47.0      652    1750\n",
              "2018-12-23     39.0     55.0     47.0      653    1750\n",
              "2018-12-24     36.0     52.0     44.0      653    1751\n",
              "2018-12-25     36.0     48.0     42.0      654    1751\n",
              "2018-12-26     35.0     45.0     40.0      654    1752\n",
              "2018-12-27     33.0     44.0     39.0      655    1752\n",
              "2018-12-28     33.0     47.0     40.0      655    1753\n",
              "2018-12-29     36.0     47.0     42.0      655    1753\n",
              "2018-12-30     39.0     52.0     46.0      656    1754"
            ],
            "text/html": [
              "\n",
              "\n",
              "  <div id=\"df-9e349ebf-65b5-4340-9b71-011eb71ee981\">\n",
              "    <div class=\"colab-df-container\">\n",
              "      <div>\n",
              "<style scoped>\n",
              "    .dataframe tbody tr th:only-of-type {\n",
              "        vertical-align: middle;\n",
              "    }\n",
              "\n",
              "    .dataframe tbody tr th {\n",
              "        vertical-align: top;\n",
              "    }\n",
              "\n",
              "    .dataframe thead th {\n",
              "        text-align: right;\n",
              "    }\n",
              "</style>\n",
              "<table border=\"1\" class=\"dataframe\">\n",
              "  <thead>\n",
              "    <tr style=\"text-align: right;\">\n",
              "      <th></th>\n",
              "      <th>MinTemp</th>\n",
              "      <th>MaxTemp</th>\n",
              "      <th>AvgTemp</th>\n",
              "      <th>Sunrise</th>\n",
              "      <th>Sunset</th>\n",
              "    </tr>\n",
              "    <tr>\n",
              "      <th>DATE</th>\n",
              "      <th></th>\n",
              "      <th></th>\n",
              "      <th></th>\n",
              "      <th></th>\n",
              "      <th></th>\n",
              "    </tr>\n",
              "  </thead>\n",
              "  <tbody>\n",
              "    <tr>\n",
              "      <th>2018-12-01</th>\n",
              "      <td>36.0</td>\n",
              "      <td>52.0</td>\n",
              "      <td>44.0</td>\n",
              "      <td>640</td>\n",
              "      <td>1743</td>\n",
              "    </tr>\n",
              "    <tr>\n",
              "      <th>2018-12-02</th>\n",
              "      <td>33.0</td>\n",
              "      <td>51.0</td>\n",
              "      <td>42.0</td>\n",
              "      <td>641</td>\n",
              "      <td>1743</td>\n",
              "    </tr>\n",
              "    <tr>\n",
              "      <th>2018-12-03</th>\n",
              "      <td>36.0</td>\n",
              "      <td>53.0</td>\n",
              "      <td>45.0</td>\n",
              "      <td>641</td>\n",
              "      <td>1743</td>\n",
              "    </tr>\n",
              "    <tr>\n",
              "      <th>2018-12-04</th>\n",
              "      <td>39.0</td>\n",
              "      <td>56.0</td>\n",
              "      <td>48.0</td>\n",
              "      <td>642</td>\n",
              "      <td>1743</td>\n",
              "    </tr>\n",
              "    <tr>\n",
              "      <th>2018-12-05</th>\n",
              "      <td>36.0</td>\n",
              "      <td>53.0</td>\n",
              "      <td>45.0</td>\n",
              "      <td>643</td>\n",
              "      <td>1743</td>\n",
              "    </tr>\n",
              "    <tr>\n",
              "      <th>2018-12-06</th>\n",
              "      <td>36.0</td>\n",
              "      <td>52.0</td>\n",
              "      <td>44.0</td>\n",
              "      <td>643</td>\n",
              "      <td>1743</td>\n",
              "    </tr>\n",
              "    <tr>\n",
              "      <th>2018-12-07</th>\n",
              "      <td>37.0</td>\n",
              "      <td>53.0</td>\n",
              "      <td>45.0</td>\n",
              "      <td>644</td>\n",
              "      <td>1744</td>\n",
              "    </tr>\n",
              "    <tr>\n",
              "      <th>2018-12-08</th>\n",
              "      <td>34.0</td>\n",
              "      <td>53.0</td>\n",
              "      <td>44.0</td>\n",
              "      <td>645</td>\n",
              "      <td>1744</td>\n",
              "    </tr>\n",
              "    <tr>\n",
              "      <th>2018-12-09</th>\n",
              "      <td>36.0</td>\n",
              "      <td>53.0</td>\n",
              "      <td>45.0</td>\n",
              "      <td>645</td>\n",
              "      <td>1744</td>\n",
              "    </tr>\n",
              "    <tr>\n",
              "      <th>2018-12-10</th>\n",
              "      <td>36.0</td>\n",
              "      <td>55.0</td>\n",
              "      <td>46.0</td>\n",
              "      <td>646</td>\n",
              "      <td>1745</td>\n",
              "    </tr>\n",
              "    <tr>\n",
              "      <th>2018-12-11</th>\n",
              "      <td>38.0</td>\n",
              "      <td>56.0</td>\n",
              "      <td>47.0</td>\n",
              "      <td>646</td>\n",
              "      <td>1745</td>\n",
              "    </tr>\n",
              "    <tr>\n",
              "      <th>2018-12-12</th>\n",
              "      <td>39.0</td>\n",
              "      <td>54.0</td>\n",
              "      <td>47.0</td>\n",
              "      <td>647</td>\n",
              "      <td>1745</td>\n",
              "    </tr>\n",
              "    <tr>\n",
              "      <th>2018-12-13</th>\n",
              "      <td>36.0</td>\n",
              "      <td>54.0</td>\n",
              "      <td>45.0</td>\n",
              "      <td>648</td>\n",
              "      <td>1746</td>\n",
              "    </tr>\n",
              "    <tr>\n",
              "      <th>2018-12-14</th>\n",
              "      <td>36.0</td>\n",
              "      <td>56.0</td>\n",
              "      <td>46.0</td>\n",
              "      <td>648</td>\n",
              "      <td>1746</td>\n",
              "    </tr>\n",
              "    <tr>\n",
              "      <th>2018-12-15</th>\n",
              "      <td>40.0</td>\n",
              "      <td>53.0</td>\n",
              "      <td>47.0</td>\n",
              "      <td>649</td>\n",
              "      <td>1746</td>\n",
              "    </tr>\n",
              "    <tr>\n",
              "      <th>2018-12-16</th>\n",
              "      <td>40.0</td>\n",
              "      <td>57.0</td>\n",
              "      <td>49.0</td>\n",
              "      <td>649</td>\n",
              "      <td>1747</td>\n",
              "    </tr>\n",
              "    <tr>\n",
              "      <th>2018-12-17</th>\n",
              "      <td>42.0</td>\n",
              "      <td>60.0</td>\n",
              "      <td>51.0</td>\n",
              "      <td>650</td>\n",
              "      <td>1747</td>\n",
              "    </tr>\n",
              "    <tr>\n",
              "      <th>2018-12-18</th>\n",
              "      <td>35.0</td>\n",
              "      <td>51.0</td>\n",
              "      <td>43.0</td>\n",
              "      <td>650</td>\n",
              "      <td>1748</td>\n",
              "    </tr>\n",
              "    <tr>\n",
              "      <th>2018-12-19</th>\n",
              "      <td>32.0</td>\n",
              "      <td>51.0</td>\n",
              "      <td>42.0</td>\n",
              "      <td>651</td>\n",
              "      <td>1748</td>\n",
              "    </tr>\n",
              "    <tr>\n",
              "      <th>2018-12-20</th>\n",
              "      <td>37.0</td>\n",
              "      <td>58.0</td>\n",
              "      <td>48.0</td>\n",
              "      <td>651</td>\n",
              "      <td>1749</td>\n",
              "    </tr>\n",
              "    <tr>\n",
              "      <th>2018-12-21</th>\n",
              "      <td>42.0</td>\n",
              "      <td>57.0</td>\n",
              "      <td>50.0</td>\n",
              "      <td>652</td>\n",
              "      <td>1749</td>\n",
              "    </tr>\n",
              "    <tr>\n",
              "      <th>2018-12-22</th>\n",
              "      <td>40.0</td>\n",
              "      <td>54.0</td>\n",
              "      <td>47.0</td>\n",
              "      <td>652</td>\n",
              "      <td>1750</td>\n",
              "    </tr>\n",
              "    <tr>\n",
              "      <th>2018-12-23</th>\n",
              "      <td>39.0</td>\n",
              "      <td>55.0</td>\n",
              "      <td>47.0</td>\n",
              "      <td>653</td>\n",
              "      <td>1750</td>\n",
              "    </tr>\n",
              "    <tr>\n",
              "      <th>2018-12-24</th>\n",
              "      <td>36.0</td>\n",
              "      <td>52.0</td>\n",
              "      <td>44.0</td>\n",
              "      <td>653</td>\n",
              "      <td>1751</td>\n",
              "    </tr>\n",
              "    <tr>\n",
              "      <th>2018-12-25</th>\n",
              "      <td>36.0</td>\n",
              "      <td>48.0</td>\n",
              "      <td>42.0</td>\n",
              "      <td>654</td>\n",
              "      <td>1751</td>\n",
              "    </tr>\n",
              "    <tr>\n",
              "      <th>2018-12-26</th>\n",
              "      <td>35.0</td>\n",
              "      <td>45.0</td>\n",
              "      <td>40.0</td>\n",
              "      <td>654</td>\n",
              "      <td>1752</td>\n",
              "    </tr>\n",
              "    <tr>\n",
              "      <th>2018-12-27</th>\n",
              "      <td>33.0</td>\n",
              "      <td>44.0</td>\n",
              "      <td>39.0</td>\n",
              "      <td>655</td>\n",
              "      <td>1752</td>\n",
              "    </tr>\n",
              "    <tr>\n",
              "      <th>2018-12-28</th>\n",
              "      <td>33.0</td>\n",
              "      <td>47.0</td>\n",
              "      <td>40.0</td>\n",
              "      <td>655</td>\n",
              "      <td>1753</td>\n",
              "    </tr>\n",
              "    <tr>\n",
              "      <th>2018-12-29</th>\n",
              "      <td>36.0</td>\n",
              "      <td>47.0</td>\n",
              "      <td>42.0</td>\n",
              "      <td>655</td>\n",
              "      <td>1753</td>\n",
              "    </tr>\n",
              "    <tr>\n",
              "      <th>2018-12-30</th>\n",
              "      <td>39.0</td>\n",
              "      <td>52.0</td>\n",
              "      <td>46.0</td>\n",
              "      <td>656</td>\n",
              "      <td>1754</td>\n",
              "    </tr>\n",
              "  </tbody>\n",
              "</table>\n",
              "</div>\n",
              "      <button class=\"colab-df-convert\" onclick=\"convertToInteractive('df-9e349ebf-65b5-4340-9b71-011eb71ee981')\"\n",
              "              title=\"Convert this dataframe to an interactive table.\"\n",
              "              style=\"display:none;\">\n",
              "\n",
              "  <svg xmlns=\"http://www.w3.org/2000/svg\" height=\"24px\"viewBox=\"0 0 24 24\"\n",
              "       width=\"24px\">\n",
              "    <path d=\"M0 0h24v24H0V0z\" fill=\"none\"/>\n",
              "    <path d=\"M18.56 5.44l.94 2.06.94-2.06 2.06-.94-2.06-.94-.94-2.06-.94 2.06-2.06.94zm-11 1L8.5 8.5l.94-2.06 2.06-.94-2.06-.94L8.5 2.5l-.94 2.06-2.06.94zm10 10l.94 2.06.94-2.06 2.06-.94-2.06-.94-.94-2.06-.94 2.06-2.06.94z\"/><path d=\"M17.41 7.96l-1.37-1.37c-.4-.4-.92-.59-1.43-.59-.52 0-1.04.2-1.43.59L10.3 9.45l-7.72 7.72c-.78.78-.78 2.05 0 2.83L4 21.41c.39.39.9.59 1.41.59.51 0 1.02-.2 1.41-.59l7.78-7.78 2.81-2.81c.8-.78.8-2.07 0-2.86zM5.41 20L4 18.59l7.72-7.72 1.47 1.35L5.41 20z\"/>\n",
              "  </svg>\n",
              "      </button>\n",
              "\n",
              "\n",
              "\n",
              "    <div id=\"df-cf0a0eab-336f-4925-95f1-9ace81ec8b60\">\n",
              "      <button class=\"colab-df-quickchart\" onclick=\"quickchart('df-cf0a0eab-336f-4925-95f1-9ace81ec8b60')\"\n",
              "              title=\"Suggest charts.\"\n",
              "              style=\"display:none;\">\n",
              "\n",
              "<svg xmlns=\"http://www.w3.org/2000/svg\" height=\"24px\"viewBox=\"0 0 24 24\"\n",
              "     width=\"24px\">\n",
              "    <g>\n",
              "        <path d=\"M19 3H5c-1.1 0-2 .9-2 2v14c0 1.1.9 2 2 2h14c1.1 0 2-.9 2-2V5c0-1.1-.9-2-2-2zM9 17H7v-7h2v7zm4 0h-2V7h2v10zm4 0h-2v-4h2v4z\"/>\n",
              "    </g>\n",
              "</svg>\n",
              "      </button>\n",
              "    </div>\n",
              "\n",
              "<style>\n",
              "  .colab-df-quickchart {\n",
              "    background-color: #E8F0FE;\n",
              "    border: none;\n",
              "    border-radius: 50%;\n",
              "    cursor: pointer;\n",
              "    display: none;\n",
              "    fill: #1967D2;\n",
              "    height: 32px;\n",
              "    padding: 0 0 0 0;\n",
              "    width: 32px;\n",
              "  }\n",
              "\n",
              "  .colab-df-quickchart:hover {\n",
              "    background-color: #E2EBFA;\n",
              "    box-shadow: 0px 1px 2px rgba(60, 64, 67, 0.3), 0px 1px 3px 1px rgba(60, 64, 67, 0.15);\n",
              "    fill: #174EA6;\n",
              "  }\n",
              "\n",
              "  [theme=dark] .colab-df-quickchart {\n",
              "    background-color: #3B4455;\n",
              "    fill: #D2E3FC;\n",
              "  }\n",
              "\n",
              "  [theme=dark] .colab-df-quickchart:hover {\n",
              "    background-color: #434B5C;\n",
              "    box-shadow: 0px 1px 3px 1px rgba(0, 0, 0, 0.15);\n",
              "    filter: drop-shadow(0px 1px 2px rgba(0, 0, 0, 0.3));\n",
              "    fill: #FFFFFF;\n",
              "  }\n",
              "</style>\n",
              "\n",
              "    <script>\n",
              "      async function quickchart(key) {\n",
              "        const containerElement = document.querySelector('#' + key);\n",
              "        const charts = await google.colab.kernel.invokeFunction(\n",
              "            'suggestCharts', [key], {});\n",
              "      }\n",
              "    </script>\n",
              "\n",
              "      <script>\n",
              "\n",
              "function displayQuickchartButton(domScope) {\n",
              "  let quickchartButtonEl =\n",
              "    domScope.querySelector('#df-cf0a0eab-336f-4925-95f1-9ace81ec8b60 button.colab-df-quickchart');\n",
              "  quickchartButtonEl.style.display =\n",
              "    google.colab.kernel.accessAllowed ? 'block' : 'none';\n",
              "}\n",
              "\n",
              "        displayQuickchartButton(document);\n",
              "      </script>\n",
              "      <style>\n",
              "    .colab-df-container {\n",
              "      display:flex;\n",
              "      flex-wrap:wrap;\n",
              "      gap: 12px;\n",
              "    }\n",
              "\n",
              "    .colab-df-convert {\n",
              "      background-color: #E8F0FE;\n",
              "      border: none;\n",
              "      border-radius: 50%;\n",
              "      cursor: pointer;\n",
              "      display: none;\n",
              "      fill: #1967D2;\n",
              "      height: 32px;\n",
              "      padding: 0 0 0 0;\n",
              "      width: 32px;\n",
              "    }\n",
              "\n",
              "    .colab-df-convert:hover {\n",
              "      background-color: #E2EBFA;\n",
              "      box-shadow: 0px 1px 2px rgba(60, 64, 67, 0.3), 0px 1px 3px 1px rgba(60, 64, 67, 0.15);\n",
              "      fill: #174EA6;\n",
              "    }\n",
              "\n",
              "    [theme=dark] .colab-df-convert {\n",
              "      background-color: #3B4455;\n",
              "      fill: #D2E3FC;\n",
              "    }\n",
              "\n",
              "    [theme=dark] .colab-df-convert:hover {\n",
              "      background-color: #434B5C;\n",
              "      box-shadow: 0px 1px 3px 1px rgba(0, 0, 0, 0.15);\n",
              "      filter: drop-shadow(0px 1px 2px rgba(0, 0, 0, 0.3));\n",
              "      fill: #FFFFFF;\n",
              "    }\n",
              "  </style>\n",
              "\n",
              "      <script>\n",
              "        const buttonEl =\n",
              "          document.querySelector('#df-9e349ebf-65b5-4340-9b71-011eb71ee981 button.colab-df-convert');\n",
              "        buttonEl.style.display =\n",
              "          google.colab.kernel.accessAllowed ? 'block' : 'none';\n",
              "\n",
              "        async function convertToInteractive(key) {\n",
              "          const element = document.querySelector('#df-9e349ebf-65b5-4340-9b71-011eb71ee981');\n",
              "          const dataTable =\n",
              "            await google.colab.kernel.invokeFunction('convertToInteractive',\n",
              "                                                     [key], {});\n",
              "          if (!dataTable) return;\n",
              "\n",
              "          const docLinkHtml = 'Like what you see? Visit the ' +\n",
              "            '<a target=\"_blank\" href=https://colab.research.google.com/notebooks/data_table.ipynb>data table notebook</a>'\n",
              "            + ' to learn more about interactive tables.';\n",
              "          element.innerHTML = '';\n",
              "          dataTable['output_type'] = 'display_data';\n",
              "          await google.colab.output.renderOutput(dataTable, element);\n",
              "          const docLink = document.createElement('div');\n",
              "          docLink.innerHTML = docLinkHtml;\n",
              "          element.appendChild(docLink);\n",
              "        }\n",
              "      </script>\n",
              "    </div>\n",
              "  </div>\n"
            ]
          },
          "metadata": {},
          "execution_count": 11
        }
      ]
    },
    {
      "cell_type": "code",
      "source": [
        "index_future_dates=pd.date_range(start='2018-12-01',end='2018-12-30')\n",
        "# as sequential data we need to give date\n",
        "\n",
        "pred = model.predict(start = 1791, end = 1820) # test data is starting from index 1791 to 1820.(last 30 records)\n",
        "\n",
        "#pred.index = index_future_dates"
      ],
      "metadata": {
        "id": "l4_aT46LDAyi"
      },
      "execution_count": null,
      "outputs": []
    },
    {
      "cell_type": "code",
      "source": [
        "index_future_dates"
      ],
      "metadata": {
        "id": "S5bOERD87Xq1"
      },
      "execution_count": null,
      "outputs": []
    },
    {
      "cell_type": "code",
      "source": [
        "pred.index"
      ],
      "metadata": {
        "colab": {
          "base_uri": "https://localhost:8080/"
        },
        "id": "QYpc9MBzfl2h",
        "outputId": "f4869301-53dd-4b1d-e4b6-5a6e721fe741"
      },
      "execution_count": null,
      "outputs": [
        {
          "output_type": "execute_result",
          "data": {
            "text/plain": [
              "RangeIndex(start=1791, stop=1821, step=1)"
            ]
          },
          "metadata": {},
          "execution_count": 14
        }
      ]
    },
    {
      "cell_type": "code",
      "source": [
        "from math import sqrt\n",
        "#test['AvgTemp'].mean()\n",
        "rmse=sqrt(mean_squared_error(pred,test['AvgTemp']))\n",
        "print(rmse) # very less error - near to 0. So ARIMA model is good"
      ],
      "metadata": {
        "colab": {
          "base_uri": "https://localhost:8080/"
        },
        "id": "BRLISJjQFamF",
        "outputId": "2cce7fe9-083c-430e-fd6d-e1082ac89639"
      },
      "execution_count": null,
      "outputs": [
        {
          "output_type": "stream",
          "name": "stdout",
          "text": [
            "3.000463825206671\n"
          ]
        }
      ]
    },
    {
      "cell_type": "code",
      "source": [
        "pred"
      ],
      "metadata": {
        "id": "SAB8RWDggD2V",
        "outputId": "693026e2-27db-4b4d-df08-d889818d76d7",
        "colab": {
          "base_uri": "https://localhost:8080/"
        }
      },
      "execution_count": null,
      "outputs": [
        {
          "output_type": "execute_result",
          "data": {
            "text/plain": [
              "1791    44.754109\n",
              "1792    44.987795\n",
              "1793    45.388741\n",
              "1794    45.721545\n",
              "1795    45.863733\n",
              "1796    45.874126\n",
              "1797    45.884370\n",
              "1798    45.894466\n",
              "1799    45.904417\n",
              "1800    45.914225\n",
              "1801    45.923891\n",
              "1802    45.933418\n",
              "1803    45.942808\n",
              "1804    45.952063\n",
              "1805    45.961185\n",
              "1806    45.970175\n",
              "1807    45.979036\n",
              "1808    45.987769\n",
              "1809    45.996377\n",
              "1810    46.004861\n",
              "1811    46.013222\n",
              "1812    46.021463\n",
              "1813    46.029586\n",
              "1814    46.037591\n",
              "1815    46.045481\n",
              "1816    46.053258\n",
              "1817    46.060923\n",
              "1818    46.068477\n",
              "1819    46.075922\n",
              "1820    46.083261\n",
              "Name: predicted_mean, dtype: float64"
            ]
          },
          "metadata": {},
          "execution_count": 16
        }
      ]
    }
  ]
}